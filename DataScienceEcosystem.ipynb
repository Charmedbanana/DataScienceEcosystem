{
 "cells": [
  {
   "cell_type": "markdown",
   "id": "763040fd-a767-4fc5-afbe-e309c78aa5b7",
   "metadata": {},
   "source": [
    "# Data Science Tools and Ecosystem"
   ]
  },
  {
   "cell_type": "markdown",
   "id": "2cf4904f-e391-4fb5-8678-1f967faae39c",
   "metadata": {},
   "source": [
    "##### Introduction:\n",
    "\n",
    "Hey and welcome!\n",
    "In this notebook, Data Science Tools and Ecosystem are summarized."
   ]
  },
  {
   "cell_type": "markdown",
   "id": "1d96b85f-7a3a-4da2-84ef-f208525e7a16",
   "metadata": {},
   "source": [
    "**Objectives**\n",
    "\n",
    "- Create an ordened list of popular languages used by Data scientist\n",
    "- Create an unordened list of most commonly used libraries used by Data scientist\n",
    "- Create a table with 1 column with 3 tools used by Data scientist\n",
    "- Arithmetic examples in Python"
   ]
  },
  {
   "cell_type": "markdown",
   "id": "10307d66-a6d2-4298-9040-152756e7e2dd",
   "metadata": {},
   "source": [
    "##### Some of the popular languages that Data scientist use are:\n",
    "\n",
    "1. Python\n",
    "2. R\n",
    "3. Julia\n",
    "4. SQL\n",
    "5. Java"
   ]
  },
  {
   "cell_type": "markdown",
   "id": "0f289edb-ce51-4be6-bb94-045bf4dfa8f8",
   "metadata": {},
   "source": [
    "##### Some of the commonly used libraries used by Data Scientist include:\n",
    "\n",
    "- NumPy\n",
    "- SciPy\n",
    "- TensorFlow\n",
    "- Matplotlib\n",
    "- Pandas\n",
    "- PyTorch"
   ]
  },
  {
   "cell_type": "markdown",
   "id": "f38ed9c9-64b7-4cad-86d9-f7277c0be0bf",
   "metadata": {},
   "source": [
    "##### Some of the Data science tools used:\n",
    "\n",
    "|                                                         Data Science Tools                                                                   |\n",
    "|------------------------------------------------------------------------------------------------------------------------------------------------------|\n",
    "|Jupyter                                                                                                                                       |\n",
    "|IBM Watson                                                                                                                                    |\n",
    "|RStudio                                                                                                                                       |"
   ]
  },
  {
   "cell_type": "markdown",
   "id": "963798bf-c216-4342-b00f-115f6659bbbd",
   "metadata": {},
   "source": [
    "### Below are a few examples of evaluating arithmetic expressions in Python"
   ]
  },
  {
   "cell_type": "code",
   "execution_count": 3,
   "id": "a133573c-98a4-470e-a93c-c5b038751f38",
   "metadata": {},
   "outputs": [
    {
     "data": {
      "text/plain": [
       "17"
      ]
     },
     "execution_count": 3,
     "metadata": {},
     "output_type": "execute_result"
    }
   ],
   "source": [
    "# Simple arithmetic expression to multiply and adding integers\n",
    "\n",
    "(3*4)+5"
   ]
  },
  {
   "cell_type": "code",
   "execution_count": 5,
   "id": "7e905f80-e053-4dbf-b884-93f345232bcb",
   "metadata": {},
   "outputs": [
    {
     "name": "stdout",
     "output_type": "stream",
     "text": [
      "200 minutes is equal to 3.3333333333333335 hours\n"
     ]
    }
   ],
   "source": [
    "# This will convert 200 minutes into hours\n",
    "\n",
    "Minutes = 200\n",
    "Hours = Minutes / 60\n",
    "\n",
    "print(\"200 minutes is equal to\", Hours, \"hours\")"
   ]
  },
  {
   "cell_type": "markdown",
   "id": "780cd440-1fde-449d-a88d-17c8b2f58672",
   "metadata": {},
   "source": [
    "## Author\n",
    "\n",
    "Vidael Dimitri"
   ]
  },
  {
   "cell_type": "code",
   "execution_count": null,
   "id": "a66b78ba-6958-4251-94dc-a32048aef618",
   "metadata": {},
   "outputs": [],
   "source": []
  }
 ],
 "metadata": {
  "kernelspec": {
   "display_name": "Python 3 (ipykernel)",
   "language": "python",
   "name": "python3"
  },
  "language_info": {
   "codemirror_mode": {
    "name": "ipython",
    "version": 3
   },
   "file_extension": ".py",
   "mimetype": "text/x-python",
   "name": "python",
   "nbconvert_exporter": "python",
   "pygments_lexer": "ipython3",
   "version": "3.11.7"
  }
 },
 "nbformat": 4,
 "nbformat_minor": 5
}
